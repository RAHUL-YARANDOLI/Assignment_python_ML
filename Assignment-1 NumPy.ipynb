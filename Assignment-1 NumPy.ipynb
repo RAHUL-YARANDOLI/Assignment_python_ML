{
 "cells": [
  {
   "cell_type": "markdown",
   "id": "86284ff6",
   "metadata": {},
   "source": [
    "1.Create a null vector of size 10 but the fifth value which is 1."
   ]
  },
  {
   "cell_type": "code",
   "execution_count": 1,
   "id": "40020e60",
   "metadata": {},
   "outputs": [
    {
     "name": "stdout",
     "output_type": "stream",
     "text": [
      "[0. 0. 0. 0. 1. 0. 0. 0. 0. 0.]\n"
     ]
    }
   ],
   "source": [
    "import numpy as np\n",
    "\n",
    "null_vector=np.zeros(10)\n",
    "null_vector[4]=1\n",
    "\n",
    "print(null_vector)"
   ]
  },
  {
   "cell_type": "markdown",
   "id": "440212a0",
   "metadata": {},
   "source": [
    "2. Create a vector with values ranging from 10 to 49."
   ]
  },
  {
   "cell_type": "code",
   "execution_count": 2,
   "id": "2736a743",
   "metadata": {},
   "outputs": [
    {
     "name": "stdout",
     "output_type": "stream",
     "text": [
      "[10 11 12 13 14 15 16 17 18 19 20 21 22 23 24 25 26 27 28 29 30 31 32 33\n",
      " 34 35 36 37 38 39 40 41 42 43 44 45 46 47 48 49]\n"
     ]
    }
   ],
   "source": [
    "import numpy as np\n",
    "\n",
    "my_vector=np.arange(10,50)\n",
    "print(my_vector)\n"
   ]
  },
  {
   "cell_type": "markdown",
   "id": "c489e52c",
   "metadata": {},
   "source": [
    "3.Create a 3x3 matrix with values ranging from 0 to 8"
   ]
  },
  {
   "cell_type": "code",
   "execution_count": 3,
   "id": "d30e6042",
   "metadata": {},
   "outputs": [
    {
     "name": "stdout",
     "output_type": "stream",
     "text": [
      "[[0 1 2]\n",
      " [3 4 5]\n",
      " [6 7 8]]\n"
     ]
    }
   ],
   "source": [
    "import numpy as np\n",
    "\n",
    "my_matrix=np.arange(9).reshape(3,3)\n",
    "print(my_matrix)\n"
   ]
  },
  {
   "cell_type": "markdown",
   "id": "ecd80f57",
   "metadata": {},
   "source": [
    "4.Find indices of non-zero elements from [1,2,0,0,4,0]"
   ]
  },
  {
   "cell_type": "code",
   "execution_count": 4,
   "id": "c213e8a2",
   "metadata": {},
   "outputs": [
    {
     "name": "stdout",
     "output_type": "stream",
     "text": [
      "(array([0, 1, 4], dtype=int64),)\n"
     ]
    }
   ],
   "source": [
    "import numpy as np\n",
    "\n",
    "my_array=np.array([1,2,0,0,4,0])\n",
    "nonzero_indices=np.nonzero(my_array)\n",
    "print(nonzero_indices)\n"
   ]
  },
  {
   "cell_type": "markdown",
   "id": "5fc4f434",
   "metadata": {},
   "source": [
    "5.Create a 10x10 array with random values and find the minimum and maximum values."
   ]
  },
  {
   "cell_type": "code",
   "execution_count": 5,
   "id": "346acc28",
   "metadata": {},
   "outputs": [
    {
     "name": "stdout",
     "output_type": "stream",
     "text": [
      "Minimum value:0.03514489917613739\n",
      "Maximum value:0.99880286561412\n"
     ]
    }
   ],
   "source": [
    "import numpy as np\n",
    "\n",
    "array = np.random.rand(10,10)\n",
    "min_value=array.min()\n",
    "max_value=array.max()\n",
    "print(f\"Minimum value:{min_value}\")\n",
    "print(f\"Maximum value:{max_value}\")"
   ]
  },
  {
   "cell_type": "markdown",
   "id": "e1d4fc7e",
   "metadata": {},
   "source": [
    "6.Create a random vector of size 30 and find the mean value."
   ]
  },
  {
   "cell_type": "code",
   "execution_count": 6,
   "id": "bd31251d",
   "metadata": {},
   "outputs": [
    {
     "name": "stdout",
     "output_type": "stream",
     "text": [
      "The mean value of the random vector is: 0.512812846656066\n"
     ]
    }
   ],
   "source": [
    "import numpy as np\n",
    "\n",
    "random_vector=np.random.rand(30)\n",
    "mean_value=np.mean(random_vector)\n",
    "print(\"The mean value of the random vector is:\",mean_value)"
   ]
  },
  {
   "cell_type": "code",
   "execution_count": null,
   "id": "c0b7ffaf",
   "metadata": {},
   "outputs": [],
   "source": []
  }
 ],
 "metadata": {
  "kernelspec": {
   "display_name": "Python 3 (ipykernel)",
   "language": "python",
   "name": "python3"
  },
  "language_info": {
   "codemirror_mode": {
    "name": "ipython",
    "version": 3
   },
   "file_extension": ".py",
   "mimetype": "text/x-python",
   "name": "python",
   "nbconvert_exporter": "python",
   "pygments_lexer": "ipython3",
   "version": "3.9.12"
  }
 },
 "nbformat": 4,
 "nbformat_minor": 5
}
